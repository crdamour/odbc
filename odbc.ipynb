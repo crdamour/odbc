{
 "cells": [
  {
   "cell_type": "code",
   "execution_count": 1,
   "metadata": {},
   "outputs": [],
   "source": [
    "import pyodbc\n",
    "import os\n",
    "import pandas as pd\n",
    "from pandas import Series, DataFrame\n",
    "import numpy as np\n",
    "\n",
    "def odbc_conn(odbc):\n",
    "    '''Establishes ODBC connection. User enters in ODBC name. Pyodbc cursor is returned.'''\n",
    "    connection = pyodbc.connect('DSN=' + odbc, autocommit = True)\n",
    "    if connection:\n",
    "        print('Successfully Connected!')\n",
    "    cursor = connection.cursor()\n",
    "    return cursor\n",
    "\n",
    "def py_sql(odbc, sql):\n",
    "    '''Establishes odbc connection and calls specific sql of user. User enters ODBC name and sql.\n",
    "    Returns a pandas dataframe.'''\n",
    "    c = odbc_conn(odbc)\n",
    "    sql_obj = c.execute(sql)\n",
    "    #Obtaining field names of table.\n",
    "    fields = [column[0] for column in c.description]\n",
    "    #Creating dataframe. Need to convert pyodbc rows to lists.\n",
    "    row_lists = [list(r) for r in sql_obj]\n",
    "    df = DataFrame(row_lists, columns = fields)\n",
    "    return df\n",
    "\n",
    "def sql_dtypes(df):\n",
    "    '''Contains common pandas dtypes and maps to SQL dtypes. User enters dataframe and a list of SQL\n",
    "    dtypes is returned.'''\n",
    "    dtyp = {'int64': 'INT', 'object': 'VARCHAR', 'float64': 'FLOAT', 'datetime64[ns]': 'DATE'}\n",
    "    return [dtyp[str(df.iloc[:, i].dtype)] for i in range(len(df.columns))]\n",
    "\n",
    "def cr_table(df, db, schema, tab_name, c, pk = ''):\n",
    "    '''Produces and executes sql to create table from dataframe. User has the option to specify a\n",
    "    primary key. If not specified the variable defaults to an empty string. db is the database.\n",
    "    schema is the db schema. tab_name is the table name. c is the pyodbc cursor.'''\n",
    "    sql = 'CREATE TABLE ' + '.'.join([db, schema, tab_name]) + ' ('\n",
    "    for i, v in enumerate(sql_dtypes(df)):\n",
    "        beg_sql = sql + '[' + str(df.columns[i]) + '] ' + v\n",
    "    #If varchar dtype adding varchar length to be max length of value in varchar column.\n",
    "        if v == 'VARCHAR':\n",
    "            beg_sql = beg_sql + '(' + str(df[df.columns[i]].map(len).max()) + ')'\n",
    "        if pk == str(df.columns[i]):\n",
    "            sql = beg_sql + ' PRIMARY KEY, '\n",
    "        else:\n",
    "            sql = beg_sql + ', '\n",
    "    #Removing last comma and space.\n",
    "    sql = sql[:-2] + ')'\n",
    "    c.execute(sql)"
   ]
  }
 ],
 "metadata": {
  "kernelspec": {
   "display_name": "Python 3",
   "language": "python",
   "name": "python3"
  },
  "language_info": {
   "codemirror_mode": {
    "name": "ipython",
    "version": 3
   },
   "file_extension": ".py",
   "mimetype": "text/x-python",
   "name": "python",
   "nbconvert_exporter": "python",
   "pygments_lexer": "ipython3",
   "version": "3.7.1"
  }
 },
 "nbformat": 4,
 "nbformat_minor": 2
}
