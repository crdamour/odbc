{
 "cells": [
  {
   "cell_type": "markdown",
   "metadata": {},
   "source": [
    "# odbc Walkthrough"
   ]
  },
  {
   "cell_type": "markdown",
   "metadata": {},
   "source": [
    "A config file is set up to identify the database server/endpoint and login credentials. The config file can be adjusted to support credentials established via dsn. Available database drivers can be reviewed using the pyodbc drivers() method (ex: pyodbc.drivers()). odbc.py is currently written to support Microsoft SQL Server databases/syntax, but can/will be extended to other databases. ODBC reads in the config file from the current working directory to establish a database connection and return a cursor."
   ]
  },
  {
   "cell_type": "code",
   "execution_count": 37,
   "metadata": {},
   "outputs": [],
   "source": [
    "import odbc\n",
    "\n",
    "#Cursor\n",
    "config = 'config.json'\n",
    "curs = odbc.ODBC(config)"
   ]
  },
  {
   "cell_type": "markdown",
   "metadata": {},
   "source": [
    "Pass a string with SQL syntax to the py_sql method to execute a sql query. The method autocommits queries. This returns a pandas dataframe object."
   ]
  },
  {
   "cell_type": "code",
   "execution_count": 33,
   "metadata": {},
   "outputs": [
    {
     "data": {
      "text/html": [
       "<div>\n",
       "<style scoped>\n",
       "    .dataframe tbody tr th:only-of-type {\n",
       "        vertical-align: middle;\n",
       "    }\n",
       "\n",
       "    .dataframe tbody tr th {\n",
       "        vertical-align: top;\n",
       "    }\n",
       "\n",
       "    .dataframe thead th {\n",
       "        text-align: right;\n",
       "    }\n",
       "</style>\n",
       "<table border=\"1\" class=\"dataframe\">\n",
       "  <thead>\n",
       "    <tr style=\"text-align: right;\">\n",
       "      <th></th>\n",
       "      <th>id</th>\n",
       "      <th>name</th>\n",
       "      <th>value</th>\n",
       "      <th>value2</th>\n",
       "      <th>dt</th>\n",
       "      <th>boo</th>\n",
       "      <th>nan</th>\n",
       "    </tr>\n",
       "  </thead>\n",
       "  <tbody>\n",
       "    <tr>\n",
       "      <th>0</th>\n",
       "      <td>1</td>\n",
       "      <td>Chris</td>\n",
       "      <td>20</td>\n",
       "      <td>23.45</td>\n",
       "      <td>2014-10-03</td>\n",
       "      <td>True</td>\n",
       "      <td>1.0</td>\n",
       "    </tr>\n",
       "    <tr>\n",
       "      <th>1</th>\n",
       "      <td>2</td>\n",
       "      <td>Fred</td>\n",
       "      <td>43</td>\n",
       "      <td>63.56</td>\n",
       "      <td>2008-08-24</td>\n",
       "      <td>False</td>\n",
       "      <td>NaN</td>\n",
       "    </tr>\n",
       "    <tr>\n",
       "      <th>2</th>\n",
       "      <td>3</td>\n",
       "      <td>Mary</td>\n",
       "      <td>34</td>\n",
       "      <td>97.62</td>\n",
       "      <td>1984-03-20</td>\n",
       "      <td>False</td>\n",
       "      <td>NaN</td>\n",
       "    </tr>\n",
       "    <tr>\n",
       "      <th>3</th>\n",
       "      <td>4</td>\n",
       "      <td>June</td>\n",
       "      <td>65</td>\n",
       "      <td>7.87</td>\n",
       "      <td>1995-04-21</td>\n",
       "      <td>True</td>\n",
       "      <td>2.0</td>\n",
       "    </tr>\n",
       "    <tr>\n",
       "      <th>4</th>\n",
       "      <td>5</td>\n",
       "      <td>Barney</td>\n",
       "      <td>75</td>\n",
       "      <td>51.21</td>\n",
       "      <td>1964-11-09</td>\n",
       "      <td>True</td>\n",
       "      <td>NaN</td>\n",
       "    </tr>\n",
       "  </tbody>\n",
       "</table>\n",
       "</div>"
      ],
      "text/plain": [
       "   id    name  value  value2          dt    boo  nan\n",
       "0   1   Chris     20   23.45  2014-10-03   True  1.0\n",
       "1   2    Fred     43   63.56  2008-08-24  False  NaN\n",
       "2   3    Mary     34   97.62  1984-03-20  False  NaN\n",
       "3   4    June     65    7.87  1995-04-21   True  2.0\n",
       "4   5  Barney     75   51.21  1964-11-09   True  NaN"
      ]
     },
     "execution_count": 33,
     "metadata": {},
     "output_type": "execute_result"
    }
   ],
   "source": [
    "df = curs.py_sql('SELECT * FROM playground.test.test_table')\n",
    "df"
   ]
  },
  {
   "cell_type": "markdown",
   "metadata": {},
   "source": [
    "Perhaps users may want to read in sql from other files."
   ]
  },
  {
   "cell_type": "code",
   "execution_count": 30,
   "metadata": {},
   "outputs": [],
   "source": [
    "from pathlib2 import Path\n",
    "\n",
    "def rd_sql(p):\n",
    "    '''Reads in file and returns a string of the file content.'''\n",
    "    with open(p, 'r') as f:\n",
    "        contents = f.readlines()\n",
    "        return ' '.join(contents)\n",
    "\n",
    "#Assumes file is in current working directory and file path is a pathlib2 path.\n",
    "sql = rd_sql(Path('sql_example.txt'))"
   ]
  },
  {
   "cell_type": "code",
   "execution_count": 31,
   "metadata": {},
   "outputs": [
    {
     "data": {
      "text/html": [
       "<div>\n",
       "<style scoped>\n",
       "    .dataframe tbody tr th:only-of-type {\n",
       "        vertical-align: middle;\n",
       "    }\n",
       "\n",
       "    .dataframe tbody tr th {\n",
       "        vertical-align: top;\n",
       "    }\n",
       "\n",
       "    .dataframe thead th {\n",
       "        text-align: right;\n",
       "    }\n",
       "</style>\n",
       "<table border=\"1\" class=\"dataframe\">\n",
       "  <thead>\n",
       "    <tr style=\"text-align: right;\">\n",
       "      <th></th>\n",
       "      <th>id</th>\n",
       "      <th>name</th>\n",
       "      <th>value</th>\n",
       "      <th>value2</th>\n",
       "      <th>dt</th>\n",
       "      <th>boo</th>\n",
       "      <th>nan</th>\n",
       "    </tr>\n",
       "  </thead>\n",
       "  <tbody>\n",
       "    <tr>\n",
       "      <th>0</th>\n",
       "      <td>1</td>\n",
       "      <td>Chris</td>\n",
       "      <td>20</td>\n",
       "      <td>23.45</td>\n",
       "      <td>2014-10-03</td>\n",
       "      <td>True</td>\n",
       "      <td>1.0</td>\n",
       "    </tr>\n",
       "    <tr>\n",
       "      <th>1</th>\n",
       "      <td>4</td>\n",
       "      <td>June</td>\n",
       "      <td>65</td>\n",
       "      <td>7.87</td>\n",
       "      <td>1995-04-21</td>\n",
       "      <td>True</td>\n",
       "      <td>2.0</td>\n",
       "    </tr>\n",
       "  </tbody>\n",
       "</table>\n",
       "</div>"
      ],
      "text/plain": [
       "   id   name  value  value2          dt   boo  nan\n",
       "0   1  Chris     20   23.45  2014-10-03  True  1.0\n",
       "1   4   June     65    7.87  1995-04-21  True  2.0"
      ]
     },
     "execution_count": 31,
     "metadata": {},
     "output_type": "execute_result"
    }
   ],
   "source": [
    "df2 = curs.py_sql(sql)\n",
    "df2"
   ]
  },
  {
   "cell_type": "markdown",
   "metadata": {},
   "source": [
    "It's possible the above may be enough for those seeking to draw on data from a database - or manipulate database characteristics using pure sql strings. Those with the appropriate access may want to create their own databases, schemas, and tables (all of which are hierarchical in-nature) using the python examples below."
   ]
  },
  {
   "cell_type": "code",
   "execution_count": 34,
   "metadata": {},
   "outputs": [],
   "source": [
    "#Was able to create database, but can't seem to drop it now. Revisit later and delete this database\n",
    "#using stack overflow post: https://dba.stackexchange.com/questions/58137/db-owner-unable-to-drop-database-error-615-sql-server\n",
    "\n",
    "#Need to drop db_example database.\n",
    "\n",
    "db_name = 'ex_db'\n",
    "schema  = 'ex_schema'\n",
    "table   = 'ex_table'\n",
    "\n",
    "#Creating a database named ex_db. Leaning on the instance above.\n",
    "curs.create_db(db_name)\n",
    "\n",
    "#The DB class enables manipulation of databases. Creating a schema for the ex_db database.\n",
    "db = odbc.DB(config, db_name)\n",
    "db.create_schema(schema)\n",
    "\n",
    "#Creating a table for the schema created above.\n",
    "schm = odbc.Schema(config, db_name, schema)\n",
    "schm.create_table(table, df) #Name of the table and supply a dataframe to create table schema.\n",
    "\n",
    "#Inserting values into the table created above.\n",
    "tab_inst = odbc.Table(config, db_name, schema, table)\n",
    "tab_inst.ins_new_vals(df)"
   ]
  },
  {
   "cell_type": "code",
   "execution_count": 35,
   "metadata": {},
   "outputs": [
    {
     "data": {
      "text/html": [
       "<div>\n",
       "<style scoped>\n",
       "    .dataframe tbody tr th:only-of-type {\n",
       "        vertical-align: middle;\n",
       "    }\n",
       "\n",
       "    .dataframe tbody tr th {\n",
       "        vertical-align: top;\n",
       "    }\n",
       "\n",
       "    .dataframe thead th {\n",
       "        text-align: right;\n",
       "    }\n",
       "</style>\n",
       "<table border=\"1\" class=\"dataframe\">\n",
       "  <thead>\n",
       "    <tr style=\"text-align: right;\">\n",
       "      <th></th>\n",
       "      <th>id</th>\n",
       "      <th>name</th>\n",
       "      <th>value</th>\n",
       "      <th>value2</th>\n",
       "      <th>dt</th>\n",
       "      <th>boo</th>\n",
       "      <th>nan</th>\n",
       "    </tr>\n",
       "  </thead>\n",
       "  <tbody>\n",
       "    <tr>\n",
       "      <th>0</th>\n",
       "      <td>1</td>\n",
       "      <td>Chris</td>\n",
       "      <td>20</td>\n",
       "      <td>23.45</td>\n",
       "      <td>2014-10-03</td>\n",
       "      <td>True</td>\n",
       "      <td>1.0</td>\n",
       "    </tr>\n",
       "    <tr>\n",
       "      <th>1</th>\n",
       "      <td>2</td>\n",
       "      <td>Fred</td>\n",
       "      <td>43</td>\n",
       "      <td>63.56</td>\n",
       "      <td>2008-08-24</td>\n",
       "      <td>False</td>\n",
       "      <td>NaN</td>\n",
       "    </tr>\n",
       "    <tr>\n",
       "      <th>2</th>\n",
       "      <td>3</td>\n",
       "      <td>Mary</td>\n",
       "      <td>34</td>\n",
       "      <td>97.62</td>\n",
       "      <td>1984-03-20</td>\n",
       "      <td>False</td>\n",
       "      <td>NaN</td>\n",
       "    </tr>\n",
       "    <tr>\n",
       "      <th>3</th>\n",
       "      <td>4</td>\n",
       "      <td>June</td>\n",
       "      <td>65</td>\n",
       "      <td>7.87</td>\n",
       "      <td>1995-04-21</td>\n",
       "      <td>True</td>\n",
       "      <td>2.0</td>\n",
       "    </tr>\n",
       "    <tr>\n",
       "      <th>4</th>\n",
       "      <td>5</td>\n",
       "      <td>Barney</td>\n",
       "      <td>75</td>\n",
       "      <td>51.21</td>\n",
       "      <td>1964-11-09</td>\n",
       "      <td>True</td>\n",
       "      <td>NaN</td>\n",
       "    </tr>\n",
       "  </tbody>\n",
       "</table>\n",
       "</div>"
      ],
      "text/plain": [
       "   id    name  value  value2          dt    boo  nan\n",
       "0   1   Chris     20   23.45  2014-10-03   True  1.0\n",
       "1   2    Fred     43   63.56  2008-08-24  False  NaN\n",
       "2   3    Mary     34   97.62  1984-03-20  False  NaN\n",
       "3   4    June     65    7.87  1995-04-21   True  2.0\n",
       "4   5  Barney     75   51.21  1964-11-09   True  NaN"
      ]
     },
     "execution_count": 35,
     "metadata": {},
     "output_type": "execute_result"
    }
   ],
   "source": [
    "#Validating table/schema created and data inserted above.\n",
    "curs.py_sql(f'SELECT * FROM {db_name}.{schema}.{table}')"
   ]
  },
  {
   "cell_type": "code",
   "execution_count": 39,
   "metadata": {},
   "outputs": [],
   "source": [
    "#The c attribute represents the connection. Closing. Ideal to close for any/all open instances.\n",
    "curs.c.close()"
   ]
  }
 ],
 "metadata": {
  "kernelspec": {
   "display_name": "Python 3",
   "language": "python",
   "name": "python3"
  },
  "language_info": {
   "codemirror_mode": {
    "name": "ipython",
    "version": 3
   },
   "file_extension": ".py",
   "mimetype": "text/x-python",
   "name": "python",
   "nbconvert_exporter": "python",
   "pygments_lexer": "ipython3",
   "version": "3.7.1"
  }
 },
 "nbformat": 4,
 "nbformat_minor": 2
}
